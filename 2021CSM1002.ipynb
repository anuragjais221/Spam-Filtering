{
  "nbformat": 4,
  "nbformat_minor": 0,
  "metadata": {
    "colab": {
      "name": "2021CSM1002.ipynb",
      "provenance": [],
      "collapsed_sections": [
        "BscvEKj95gZl"
      ]
    },
    "kernelspec": {
      "name": "python3",
      "display_name": "Python 3"
    },
    "language_info": {
      "name": "python"
    }
  },
  "cells": [
    {
      "cell_type": "markdown",
      "metadata": {
        "id": "BscvEKj95gZl"
      },
      "source": [
        "# Assignment 6 : Spam Filtering\n",
        "\n",
        "---\n",
        "\n",
        "\n",
        "Total Points: **100**\n",
        "\n",
        "Tentative Weightage : **20%**\n",
        "\n",
        "Submission Deadline : **10th November 2021 , 11:00 AM**\n",
        "\n",
        "---\n",
        "\n",
        "\n",
        "\n",
        "General Instructions:\n",
        "\n",
        "---\n",
        "\n",
        "\n",
        "1. You have to do this lab individually.\n",
        "2. You may use **seaborn, matplotlib, pandas, numpy, csv, nltk, sklearn, scikit-learn libraries**\n",
        "3. All the code should be submitted in the form of a single colab notebook.\n",
        "4. Points for each sub-section are mentioned in the appropriate question.\n",
        "5. You can use Google colab to run a jupyter notebook (https://colab.research.google.com/) How to load data in Google Colab ?(https://towardsdatascience.com/3-ways-to-load-csv-files-into-colab-7c14fcbdcb92) (https://www.marktechpost.com/2019/06/07/how-to-connect-google-colab-with-google-drive/). \n",
        "6. The assignment must be submitted on Google classroom. The code as well as the accompanying observations should be made part of the notebook.\n",
        "7. **Code Readability** is very important. Modularize your code by making use of classes, functions that can be flexibly reused wherever necessary. Also use self explanatory variable names and add comments to describe your approach wherever necessary. You may add additional code or text blocks as necessary.\n",
        "8. You are expected to write your **observations** (preferably in a text block) and not just an error free code.\n",
        "9. You are expected to follow the **honor code** of the class.\n",
        "10. The deadline is strict and any assignment submitted later will not\n",
        "be considered for evaluation.\n",
        "11. The marks will be awarded on the basis of quality of code, use of innovative data structures, scalability, correctness, and observations made.\n",
        "12. You can add as many code or text cells in this notebook.\n",
        "13. You will have to mount your drive and change the paths according to your implementation. \n"
      ]
    },
    {
      "cell_type": "markdown",
      "metadata": {
        "id": "Ge-TdoU27RL7"
      },
      "source": [
        "#Dataset\n",
        "\n",
        "###About the Dataset\n",
        "\n",
        "Dataset is available here (https://drive.google.com/file/d/1-DrTyeuoRFsvSUoNcQhtDUZjyk95hRRg/view?usp=sharing). <br> You have to download this dataset and upload it on your google drive. Read the csv file (present in above mentioned link) into dataframe in your code to proceed further.\n"
      ]
    },
    {
      "cell_type": "code",
      "metadata": {
        "id": "Wigei8vk5cX9",
        "colab": {
          "base_uri": "https://localhost:8080/"
        },
        "outputId": "871ae1ed-e85f-47f8-b488-d3dfc3e1e60d"
      },
      "source": [
        "\n",
        "#google drive mounted here\n",
        "\n",
        "from google.colab import drive\n",
        "drive.mount('/content/MyDrive', force_remount = True)\n",
        "\n",
        "#change the current working diectory path accordingly\n",
        "\n"
      ],
      "execution_count": null,
      "outputs": [
        {
          "output_type": "stream",
          "name": "stdout",
          "text": [
            "Mounted at /content/MyDrive\n"
          ]
        }
      ]
    },
    {
      "cell_type": "code",
      "metadata": {
        "id": "DbwAGjom7tnh",
        "colab": {
          "base_uri": "https://localhost:8080/"
        },
        "outputId": "53d70154-04ed-4d69-f5ab-5c27d2a35d27"
      },
      "source": [
        "#Perform necessary imports here\n",
        "\n",
        "import pandas as pd\n",
        "import matplotlib.pyplot as plot\n",
        "import re\n",
        "import nltk\n",
        "import numpy as np\n",
        "nltk.download('punkt')\n",
        "import nltk\n",
        "nltk.download('wordnet')\n",
        "nltk.download('stopwords')\n",
        "from nltk.stem import PorterStemmer\n",
        "from nltk.tokenize import word_tokenize\n",
        "from nltk.stem import WordNetLemmatizer\n",
        "from sklearn.feature_extraction.text import TfidfVectorizer\n",
        "from sklearn.model_selection import train_test_split\n",
        "from sklearn.metrics import accuracy_score\n",
        "from sklearn.metrics import f1_score\n",
        "from sklearn.metrics import confusion_matrix\n",
        "from nltk.corpus import stopwords"
      ],
      "execution_count": null,
      "outputs": [
        {
          "output_type": "stream",
          "name": "stdout",
          "text": [
            "[nltk_data] Downloading package punkt to /root/nltk_data...\n",
            "[nltk_data]   Unzipping tokenizers/punkt.zip.\n",
            "[nltk_data] Downloading package wordnet to /root/nltk_data...\n",
            "[nltk_data]   Unzipping corpora/wordnet.zip.\n",
            "[nltk_data] Downloading package stopwords to /root/nltk_data...\n",
            "[nltk_data]   Unzipping corpora/stopwords.zip.\n"
          ]
        }
      ]
    },
    {
      "cell_type": "code",
      "metadata": {
        "id": "xk9mH-E9O_-A"
      },
      "source": [
        ""
      ],
      "execution_count": null,
      "outputs": []
    },
    {
      "cell_type": "markdown",
      "metadata": {
        "id": "a2vHQT2N8OHK"
      },
      "source": [
        "#**Section 1: (5 points)** \n",
        "\n",
        "1. Download and load the dataset in pandas dataframe (1 point).\n",
        "\n",
        "2. Display total number of rows and columns in dataset (1 point).\n",
        "\n",
        "3. Show the first 5 entries of the dataframe (1 point).\n",
        "\n",
        "4. Plot a bar graph showing number of spams and hams in dataset (2 points)."
      ]
    },
    {
      "cell_type": "code",
      "metadata": {
        "id": "S-1SNUJ5781U",
        "colab": {
          "base_uri": "https://localhost:8080/",
          "height": 242
        },
        "outputId": "18b10564-9580-42e5-90b2-2fa77ce377c9"
      },
      "source": [
        "# Please insert your code here\n",
        "\n",
        "df = pd.read_csv(\"/content/MyDrive/MyDrive/DataSet_Assignment6.csv\")\n",
        "print(\"rows:\",df.shape[0])\n",
        "print(\"columns:\", df.shape[1])\n",
        "df.head(5)"
      ],
      "execution_count": null,
      "outputs": [
        {
          "output_type": "stream",
          "name": "stdout",
          "text": [
            "rows: 5708\n",
            "columns: 2\n"
          ]
        },
        {
          "output_type": "execute_result",
          "data": {
            "text/html": [
              "<div>\n",
              "<style scoped>\n",
              "    .dataframe tbody tr th:only-of-type {\n",
              "        vertical-align: middle;\n",
              "    }\n",
              "\n",
              "    .dataframe tbody tr th {\n",
              "        vertical-align: top;\n",
              "    }\n",
              "\n",
              "    .dataframe thead th {\n",
              "        text-align: right;\n",
              "    }\n",
              "</style>\n",
              "<table border=\"1\" class=\"dataframe\">\n",
              "  <thead>\n",
              "    <tr style=\"text-align: right;\">\n",
              "      <th></th>\n",
              "      <th>text</th>\n",
              "      <th>spam</th>\n",
              "    </tr>\n",
              "  </thead>\n",
              "  <tbody>\n",
              "    <tr>\n",
              "      <th>0</th>\n",
              "      <td>Subject: naturally irresistible your corporate...</td>\n",
              "      <td>1</td>\n",
              "    </tr>\n",
              "    <tr>\n",
              "      <th>1</th>\n",
              "      <td>Subject: the stock trading gunslinger  fanny i...</td>\n",
              "      <td>1</td>\n",
              "    </tr>\n",
              "    <tr>\n",
              "      <th>2</th>\n",
              "      <td>Subject: unbelievable new homes made easy  im ...</td>\n",
              "      <td>1</td>\n",
              "    </tr>\n",
              "    <tr>\n",
              "      <th>3</th>\n",
              "      <td>Subject: 4 color printing special  request add...</td>\n",
              "      <td>1</td>\n",
              "    </tr>\n",
              "    <tr>\n",
              "      <th>4</th>\n",
              "      <td>Subject: do not have money , get software cds ...</td>\n",
              "      <td>1</td>\n",
              "    </tr>\n",
              "  </tbody>\n",
              "</table>\n",
              "</div>"
            ],
            "text/plain": [
              "                                                text  spam\n",
              "0  Subject: naturally irresistible your corporate...     1\n",
              "1  Subject: the stock trading gunslinger  fanny i...     1\n",
              "2  Subject: unbelievable new homes made easy  im ...     1\n",
              "3  Subject: 4 color printing special  request add...     1\n",
              "4  Subject: do not have money , get software cds ...     1"
            ]
          },
          "metadata": {},
          "execution_count": 12
        }
      ]
    },
    {
      "cell_type": "code",
      "metadata": {
        "id": "kEpdri3Z9JVx",
        "colab": {
          "base_uri": "https://localhost:8080/",
          "height": 357
        },
        "outputId": "4933bc47-8104-4b29-c3d9-356cb0193cba"
      },
      "source": [
        "# Please insert your code here\n",
        "\n",
        "plot_data = (df[\"spam\"].value_counts())\n",
        "print(  plot_data )\n",
        "data = {\"TEXT_TYPE\":[\"SPAM\", \"HAM\"],\n",
        "        \"TEXT_COUNT\":[plot_data[1],plot_data[0]]}\n",
        "#  Dictionary loaded into a DataFrame\n",
        "dataFrame = pd.DataFrame(data=data)\n",
        "# Draw a vertical bar chart\n",
        "dataFrame.plot.bar(color=['red','blue'],x=\"TEXT_TYPE\", y=\"TEXT_COUNT\",rot=15, title=\"SPAM/HAM\")\n",
        "plot.show(block=True)\n"
      ],
      "execution_count": null,
      "outputs": [
        {
          "output_type": "stream",
          "name": "stdout",
          "text": [
            "0    4350\n",
            "1    1358\n",
            "Name: spam, dtype: int64\n"
          ]
        },
        {
          "output_type": "display_data",
          "data": {
            "image/png": "[encoded data removed]",
            "text/plain": [
              "<Figure size 432x288 with 1 Axes>"
            ]
          },
          "metadata": {
            "needs_background": "light"
          }
        }
      ]
    },
    {
      "cell_type": "markdown",
      "metadata": {
        "id": "NZjN0CLH9ghT"
      },
      "source": [
        "**Observations:**\n",
        "\n",
        "Write your observations from about the dataset here regarding the data distribution of spam/ham emails, etc.\n",
        "\n",
        "\n",
        "* Dataset conatins two columns (text,spam) and 5708 rows. Columns are named as \"text\" and \"spam\".\n",
        "* Each row of the \"text\" column has a string containing special characters, non-meaning ful words, single caracters, numeric characters, puntuations,stop words and also hyperlinks.\n",
        "* This dataset contains 4350 non spam (ham) text and 1358 spam text. Each row of the \"text\" section contaion a subject portion and its corresponding body section.\n"
      ]
    },
    {
      "cell_type": "markdown",
      "metadata": {
        "id": "BUAP_4Nz8CVF"
      },
      "source": [
        ""
      ]
    },
    {
      "cell_type": "markdown",
      "metadata": {
        "id": "wFEOToN1RRWR"
      },
      "source": [
        "#**Section 2: Preprocessing (15 points)**"
      ]
    },
    {
      "cell_type": "markdown",
      "metadata": {
        "id": "TJP7OwuRBFX1"
      },
      "source": [
        "\n",
        "\n",
        "### Task 1 (10 points):\n",
        "1. Remove all the punctuations from the text in dataset (2 point).\n",
        "\n",
        "2. Remove all numericals from text (2 points).\n",
        "\n",
        "3. Remove hyperlinks from text (2 points).\n",
        "\n",
        "2. Convert all text in lower case (2 points).\n",
        "\n",
        "5. Remove spaces from text (1 point).\n",
        "\n",
        "6. Display any five rows of your dataframe on which above five operation are implemented (1 point).\n",
        "\n"
      ]
    },
    {
      "cell_type": "code",
      "metadata": {
        "id": "9amL6aMkNQ9D",
        "colab": {
          "base_uri": "https://localhost:8080/"
        },
        "outputId": "2a85ef6e-ab1d-42c2-9039-e2d4eacb186e"
      },
      "source": [
        "# remove hyperlinks\n",
        "rows = df.shape[0]\n",
        "for i in range(rows):\n",
        "        s = df.loc[i][0]\n",
        "        res = re.sub(r'(https|http)?:\\/\\/(\\w|\\.|\\/|\\?|\\=|\\&|\\%)*\\b', '', s, flags=re.MULTILINE)\n",
        "        res=re.sub(r'(www)\\s?\\.\\s?([a-z\\.]{2,6})\\s?([\\/\\w\\.-]*)',' ',s,flags=re.MULTILINE)\n",
        "        res=re.sub('(https|http)', ' ', res)\n",
        "        # df.loc[i,['text','spam']] = [re.sub(r'(https|http)?:\\/\\/(\\w|\\.|\\/|\\?|\\=|\\&|\\%)*\\b', '', s, flags=re.MULTILINE),df.loc[i][1]]\n",
        "        df.loc[i,['text','spam']] = [res,df.loc[i][1]]\n",
        "df.head(5)\n",
        "print(df.loc[41][0])"
      ],
      "execution_count": null,
      "outputs": [
        {
          "output_type": "stream",
          "name": "stdout",
          "text": [
            "subject bro check awesom new product wish could better  www gretan com s cheer mind vigor mind war god way teach american geographi human power compound time patienc strive excel perfect kill lost import part life \n"
          ]
        }
      ]
    },
    {
      "cell_type": "code",
      "metadata": {
        "id": "ufpyOf0IRzf9",
        "colab": {
          "base_uri": "https://localhost:8080/"
        },
        "outputId": "78e41cf9-8e8a-4915-a53c-ac39def0b0a9"
      },
      "source": [
        "# remove puncutation\n",
        "rows = df.shape[0]\n",
        "for i in range(rows):\n",
        "        s = df.loc[i][0]\n",
        "        df.loc[i,['text','spam']] = [re.sub(r'[^\\w\\s]', '', s),df.loc[i][1]]\n",
        "\n",
        "df.head(2)\n",
        "print(df.loc[7][0])\n"
      ],
      "execution_count": null,
      "outputs": [
        {
          "output_type": "stream",
          "name": "stdout",
          "text": [
            "subject save money buy get thing tri ciall yet even imagin like real man bed thing great errrectlon provid exactiy want ciali lot advantag viagra effect iast hour readi start within minut mix aicohol ship countri get right \n"
          ]
        }
      ]
    },
    {
      "cell_type": "code",
      "metadata": {
        "id": "YNSb3TJ5R0Hc",
        "colab": {
          "base_uri": "https://localhost:8080/"
        },
        "outputId": "583b7d62-728f-4d51-b427-600480e25c60"
      },
      "source": [
        "# remove numericals\n",
        "for i in range(rows):\n",
        "        s = df.loc[i][0]\n",
        "        df.loc[i,['text','spam']] = [re.sub(r'[0-9]', '', s),df.loc[i][1]]\n",
        "df.head(2)\n",
        "print(df.loc[7][0])"
      ],
      "execution_count": null,
      "outputs": [
        {
          "output_type": "stream",
          "name": "stdout",
          "text": [
            "subject save money buy get thing tri ciall yet even imagin like real man bed thing great errrectlon provid exactiy want ciali lot advantag viagra effect iast hour readi start within minut mix aicohol ship countri get right \n"
          ]
        }
      ]
    },
    {
      "cell_type": "code",
      "metadata": {
        "colab": {
          "base_uri": "https://localhost:8080/"
        },
        "id": "NC6ZboCBUkRy",
        "outputId": "87ade9b6-8148-46f0-b8b3-2cade5e9b278"
      },
      "source": [
        "# convert into lower case\n",
        "for i in range(rows):\n",
        "        s = df.loc[i][0]\n",
        "        df.loc[i,['text','spam']] = [s.lower(),df.loc[i][1]]\n",
        "df.head(2)\n",
        "print(df.loc[7][0])"
      ],
      "execution_count": null,
      "outputs": [
        {
          "output_type": "stream",
          "name": "stdout",
          "text": [
            "subject save money buy get thing tri ciall yet even imagin like real man bed thing great errrectlon provid exactiy want ciali lot advantag viagra effect iast hour readi start within minut mix aicohol ship countri get right \n"
          ]
        }
      ]
    },
    {
      "cell_type": "code",
      "metadata": {
        "colab": {
          "base_uri": "https://localhost:8080/"
        },
        "id": "RwF3nMleUDOf",
        "outputId": "e17e8b2d-0612-438a-a347-0f9c53dd94e9"
      },
      "source": [
        "# remove extra white spaces\n",
        "s_str = ''\n",
        "for i in range(rows):\n",
        "        s = df.loc[i][0]\n",
        "        \n",
        "        words = word_tokenize(s)\n",
        "        for w in words:\n",
        "          s_str = s_str + w + ' '\n",
        "        df.loc[i,['text','spam']] = [s_str,df.loc[i][1]]\n",
        "        s_str = ''\n",
        "df.head(2)\n",
        "print( df.loc[7][0])"
      ],
      "execution_count": null,
      "outputs": [
        {
          "output_type": "stream",
          "name": "stdout",
          "text": [
            "subject save money buy get thing tri ciall yet even imagin like real man bed thing great errrectlon provid exactiy want ciali lot advantag viagra effect iast hour readi start within minut mix aicohol ship countri get right \n"
          ]
        }
      ]
    },
    {
      "cell_type": "code",
      "metadata": {
        "colab": {
          "base_uri": "https://localhost:8080/"
        },
        "id": "45yXb21z_CC7",
        "outputId": "5e1bcf38-e681-439c-9a88-9c8208b355b4"
      },
      "source": [
        "# remove stop words\n",
        "stop_words = set(stopwords.words('english'))\n",
        "word_str = ' '\n",
        "for i in range(rows):\n",
        "        s = df.loc[i][0]\n",
        "        word_tokens = word_tokenize(s)\n",
        "        filtered_word = [w for w in word_tokens if not w in stop_words]\n",
        "        filtered_word = \" \".join(filtered_word)\n",
        "        df.loc[i,['text','spam']] = [filtered_word,df.loc[i][1]]\n",
        "df.head(2)\n",
        "print(df.loc[10][0])"
      ],
      "execution_count": null,
      "outputs": [
        {
          "output_type": "stream",
          "name": "stdout",
          "text": [
            "subject la vega high rise boom la vega fast becom major metropolitan citi new high rise tower expect built around la vega strip within next year condominium boom begun buy first earli phase pre construct price avail la vega high rise includ trump cosmopolitan mgm turnberri icon sky among join interest list www verticallv com messag sent realti one highris learn www verticallv comif wish exclud futur mail plea repli word remov subject line\n"
          ]
        }
      ]
    },
    {
      "cell_type": "markdown",
      "metadata": {
        "id": "wnwYN_MbQ5md"
      },
      "source": [
        "\n",
        "### Task 2 (Word Stemming and Word lemmatization) (5 points):\n",
        "\n",
        "\n",
        "\n",
        "**Word Stemming:** is a process of reducing a word to its word stem that affixes to suffixes and prefixes or to the roots of words known as a lemma.\n",
        "\n",
        "**Word lemmatization:** is a process of utilizing the dictionary of a particular language and trying to convert the words back to its base form.\n",
        "\n",
        "These techniques try to reduce the words to its most basic form.\n",
        "\n",
        "You have to convert the text using stemming and lemmatization  and display five random examples of the converted text.\n",
        "\n",
        "\n",
        "\n",
        "Hint: Implementation of these algorithms is available in nltk library."
      ]
    },
    {
      "cell_type": "code",
      "metadata": {
        "id": "8KrhcI_4Rwx6",
        "colab": {
          "base_uri": "https://localhost:8080/",
          "height": 112
        },
        "outputId": "68115460-dd94-4222-fdc2-a3f737dab6ed"
      },
      "source": [
        "# Please insert your code here\n",
        "ps = PorterStemmer()\n",
        "lemmatizer = WordNetLemmatizer()\n",
        "s_str = ''\n",
        "\n",
        "for i in range(rows):\n",
        "  s = df.loc[i][0]\n",
        "  words = word_tokenize(s)\n",
        "  for w in words:\n",
        "    # s_str = s_str + lemmatizer.lemmatize(ps.stem(w)) + ' '\n",
        "    s_str = s_str + ps.stem(lemmatizer.lemmatize(w)) + ' '\n",
        "    # s_str.join(ps.stem(w))\n",
        "  df.loc[i,['text','spam']] = [s_str,df.loc[i][1]]\n",
        "  s_str = ''\n",
        "df.head(2)\n"
      ],
      "execution_count": null,
      "outputs": [
        {
          "output_type": "execute_result",
          "data": {
            "text/html": [
              "<div>\n",
              "<style scoped>\n",
              "    .dataframe tbody tr th:only-of-type {\n",
              "        vertical-align: middle;\n",
              "    }\n",
              "\n",
              "    .dataframe tbody tr th {\n",
              "        vertical-align: top;\n",
              "    }\n",
              "\n",
              "    .dataframe thead th {\n",
              "        text-align: right;\n",
              "    }\n",
              "</style>\n",
              "<table border=\"1\" class=\"dataframe\">\n",
              "  <thead>\n",
              "    <tr style=\"text-align: right;\">\n",
              "      <th></th>\n",
              "      <th>text</th>\n",
              "      <th>spam</th>\n",
              "    </tr>\n",
              "  </thead>\n",
              "  <tbody>\n",
              "    <tr>\n",
              "      <th>0</th>\n",
              "      <td>subject natur irresist corpor ident lt realli ...</td>\n",
              "      <td>1</td>\n",
              "    </tr>\n",
              "    <tr>\n",
              "      <th>1</th>\n",
              "      <td>subject stock trade gunsl fanni merril muzo co...</td>\n",
              "      <td>1</td>\n",
              "    </tr>\n",
              "  </tbody>\n",
              "</table>\n",
              "</div>"
            ],
            "text/plain": [
              "                                                text  spam\n",
              "0  subject natur irresist corpor ident lt realli ...     1\n",
              "1  subject stock trade gunsl fanni merril muzo co...     1"
            ]
          },
          "metadata": {},
          "execution_count": 60
        }
      ]
    },
    {
      "cell_type": "code",
      "metadata": {
        "id": "T5KmiVe8PA2P"
      },
      "source": [
        ""
      ],
      "execution_count": null,
      "outputs": []
    },
    {
      "cell_type": "markdown",
      "metadata": {
        "id": "IG7GBiHsh_pV"
      },
      "source": [
        "#**Section 3: Vectorization (5 points)**\n",
        "\n",
        "1. Convert text to numerical vectors (such as TF.IDF). You may use available library function for the same."
      ]
    },
    {
      "cell_type": "code",
      "metadata": {
        "id": "4zT1Qd_gijmo",
        "colab": {
          "base_uri": "https://localhost:8080/"
        },
        "outputId": "edf81d73-9d6a-468b-88a6-f15408c1dd21"
      },
      "source": [
        "# Please insert your code here\n",
        "\n",
        "vectorizer = TfidfVectorizer()\n",
        "df.head(5)\n",
        "vectors = vectorizer.fit_transform(df['text'])\n",
        "print(vectors.shape)\n",
        "features = vectors\n",
        "tfidf_df = pd.DataFrame(vectors.toarray(), columns=vectorizer.get_feature_names())\n",
        "\n",
        "# print(tfidf_df)\n",
        "# df.drop('text', axis=1, inplace=True)\n",
        "# res = pd.concat([df, tfidf_df], axis=1)\n",
        "# res.head(5)\n",
        "# print(res)"
      ],
      "execution_count": null,
      "outputs": [
        {
          "output_type": "stream",
          "name": "stdout",
          "text": [
            "(5708, 25250)\n"
          ]
        }
      ]
    },
    {
      "cell_type": "code",
      "metadata": {
        "id": "dFtVNIkjDLzr"
      },
      "source": [
        ""
      ],
      "execution_count": null,
      "outputs": []
    },
    {
      "cell_type": "markdown",
      "metadata": {
        "id": "ElD3sq-wTq6L"
      },
      "source": [
        "#**Section 4: Splitting Data (5 points)**\n",
        "\n",
        "You have to divide the given dataset two parts called train and test data, in the ratio 80:20 i.e. train data will contain 80% of total dataset and test will contain 20% dataset. The distribution of spam and ham email in train and test should be balanced.\n",
        "\n",
        "You have to use Random state : 42"
      ]
    },
    {
      "cell_type": "code",
      "metadata": {
        "id": "h09_WQKrUUln",
        "colab": {
          "base_uri": "https://localhost:8080/"
        },
        "outputId": "8ff5746f-76f4-42a7-f221-e0133991bc2e"
      },
      "source": [
        "# Please insert your code here\n",
        "\n",
        "X_train, X_test, y_train, y_test = train_test_split(tfidf_df, df['spam'], test_size=0.20, random_state=42)\n",
        "print(X_train.head(2))\n",
        "print(y_train.head(2))\n"
      ],
      "execution_count": null,
      "outputs": [
        {
          "output_type": "stream",
          "name": "stdout",
          "text": [
            "       aa  aaa  aaaenerfax  aadedeji  ...  zzmacmac  zzn  zzncacst  zzzz\n",
            "4448  0.0  0.0         0.0       0.0  ...       0.0  0.0       0.0   0.0\n",
            "2304  0.0  0.0         0.0       0.0  ...       0.0  0.0       0.0   0.0\n",
            "\n",
            "[2 rows x 25250 columns]\n",
            "4448    0\n",
            "2304    0\n",
            "Name: spam, dtype: int64\n"
          ]
        }
      ]
    },
    {
      "cell_type": "code",
      "metadata": {
        "id": "QciBglh478ia"
      },
      "source": [
        ""
      ],
      "execution_count": null,
      "outputs": []
    },
    {
      "cell_type": "markdown",
      "metadata": {
        "id": "csJBPDhfLYUH"
      },
      "source": [
        "#**Section 5: Vector-distance based Spam Filter (15 points)**\n",
        "\n",
        "\n",
        "1. Implement the vector-distance based spam filter as discussed in the class (the method is described in the slides shared in the google classroom)\n",
        "\n",
        "2. Report the accuracy, and f-measure. (Your can explore about accuracy and F-measure metrics here are some helpful links: \n",
        "\n",
        "Accuracy: https://en.wikipedia.org/wiki/Accuracy_and_precision#In_binary_classification\n",
        "\n",
        "F-measure: https://en.wikipedia.org/wiki/F-score\n",
        "\n",
        "\n",
        "3. Plot the confusion matrix.\n",
        "https://en.wikipedia.org/wiki/Confusion_matrix\n",
        "\n",
        "4. Comment on the classifier's performance"
      ]
    },
    {
      "cell_type": "code",
      "metadata": {
        "id": "LYxpXnsEXG4t"
      },
      "source": [
        "spam = []\n",
        "ham = []\n",
        "for i in X_train.index:\n",
        "  if y_train[i] == 1:\n",
        "    spam.append(X_train.loc[i,:].values)\n",
        "  else:\n",
        "    ham.append(X_train.loc[i,:].values)\n",
        "\n",
        "# print(spam)\n"
      ],
      "execution_count": null,
      "outputs": []
    },
    {
      "cell_type": "code",
      "metadata": {
        "id": "xwGJXdVR9sAg"
      },
      "source": [
        "#  from sklearn.metrics.pairwise import cosine_similarity\n",
        "#  result = cosine_similarity(X_test,spam)\n",
        "#  print(result)"
      ],
      "execution_count": null,
      "outputs": []
    },
    {
      "cell_type": "code",
      "metadata": {
        "id": "DxidVuErYDwJ"
      },
      "source": [
        "l = []\n",
        "for i in X_test.index:\n",
        "  row = X_test.loc[i,:].values\n",
        "  spam_dist = 0\n",
        "  ham_dist = 0\n",
        "  \n",
        "  for j in range(len(spam)):\n",
        "    spam_row = spam[j] \n",
        "    spam_dist = spam_dist + np.linalg.norm(row-spam_row)\n",
        "  for k in range(len(ham)):\n",
        "    ham_row = ham[k]\n",
        "    ham_dist = ham_dist + np.linalg.norm(row-ham_row)\n",
        "  \n",
        "  spam_dist = spam_dist / len(spam)\n",
        "  ham_dist = ham_dist / len( ham )\n",
        "\n",
        "  if ham_dist < spam_dist:\n",
        "    l.append(0)\n",
        "  else: \n",
        "    l.append(1)\n",
        "\n",
        "# print( l )"
      ],
      "execution_count": null,
      "outputs": []
    },
    {
      "cell_type": "code",
      "metadata": {
        "colab": {
          "base_uri": "https://localhost:8080/",
          "height": 352
        },
        "id": "IhL8BrVNcHLw",
        "outputId": "29edc25d-1c7b-4bec-a0eb-fb60542bd87a"
      },
      "source": [
        "import seaborn as sns\n",
        "x = accuracy_score(y_test,l)\n",
        "y = f1_score(y_test,l)\n",
        "z = confusion_matrix(y_test,l)\n",
        "f, ax = plot.subplots(figsize =(4,4))\n",
        "sns.heatmap(z,annot = True,linewidths=0.5,linecolor=\"blue\",fmt = \".0f\",ax=ax)\n",
        "plot.xlabel(\"pred\")\n",
        "plot.ylabel(\"y_test\")\n",
        "print(x)\n",
        "print(y)\n",
        "print(z)\n",
        "plot.show()\n"
      ],
      "execution_count": null,
      "outputs": [
        {
          "output_type": "stream",
          "name": "stdout",
          "text": [
            "0.9816112084063048\n",
            "0.964824120603015\n",
            "[[833  12]\n",
            " [  9 288]]\n"
          ]
        },
        {
          "output_type": "display_data",
          "data": {
            "image/png": "[encoded data removed]",
            "text/plain": [
              "<Figure size 288x288 with 2 Axes>"
            ]
          },
          "metadata": {
            "needs_background": "light"
          }
        }
      ]
    },
    {
      "cell_type": "markdown",
      "metadata": {
        "id": "OBUucEWWCd0X"
      },
      "source": [
        "Comments:\n",
        "\n",
        "1. Accuracy percentage of vector distance based classification is approx 98.16112084063048 %\n",
        "2. F1 score of decision tree classifier is approx 0.964824120603015\n",
        "3. Confusion Matrix has values \n",
        "  833 (True Negative)\n",
        "  12 (False Positive)\n",
        "  8 (False Negative)\n",
        "  288 (True Positive)\n",
        "4. Vector distance based classification shown better result after removing of stop words. \n",
        "5.Vector distance based classificaiton performs better with eculidian distance.\n",
        "\n"
      ]
    },
    {
      "cell_type": "markdown",
      "metadata": {
        "id": "_FkLZMXuUk0K"
      },
      "source": [
        "#**Section 6: Naiive Bayes (15 points)**\n",
        "\n",
        "\n",
        "1. Apply Naive Bayes classifier to classify Spam/ham.\n",
        "\n",
        "2. Report the accuracy, and f-measure.\n",
        "\n",
        "3. Plot the confusion matrix.\n",
        "\n",
        "4. Comment on the classifier's performance\n",
        "\n"
      ]
    },
    {
      "cell_type": "code",
      "metadata": {
        "id": "vOHIGRUqVT9L",
        "colab": {
          "base_uri": "https://localhost:8080/",
          "height": 352
        },
        "outputId": "9f42d3fd-631a-4f43-d2d2-2d292f8d10de"
      },
      "source": [
        "# Please insert your code here\n",
        "from sklearn.naive_bayes import MultinomialNB\n",
        "import seaborn as sns\n",
        "mnb = MultinomialNB(alpha=0.1)\n",
        "mnb.fit(X_train, y_train)\n",
        "pred = mnb.predict(X_test)\n",
        "x_mnb = accuracy_score(y_test,pred)\n",
        "y_mnb = f1_score(y_test,pred)\n",
        "z_mnb = confusion_matrix(y_test,pred)\n",
        "f, ax = plot.subplots(figsize =(4,4))\n",
        "sns.heatmap(z_mnb,annot = True,linewidths=0.5,linecolor=\"blue\",fmt = \".0f\",ax=ax)\n",
        "plot.xlabel(\"pred\")\n",
        "plot.ylabel(\"y_test\")\n",
        "\n",
        "print(x)\n",
        "print(y)\n",
        "print(z_mnb)\n",
        "plot.show()"
      ],
      "execution_count": null,
      "outputs": [
        {
          "output_type": "stream",
          "name": "stdout",
          "text": [
            "0.9816112084063048\n",
            "0.964824120603015\n",
            "[[839   6]\n",
            " [ 14 283]]\n"
          ]
        },
        {
          "output_type": "display_data",
          "data": {
            "image/png": "[encoded data removed]",
            "text/plain": [
              "<Figure size 288x288 with 2 Axes>"
            ]
          },
          "metadata": {
            "needs_background": "light"
          }
        }
      ]
    },
    {
      "cell_type": "markdown",
      "metadata": {
        "id": "IMLOKLxeDpag"
      },
      "source": [
        "Comments:\n",
        "\n",
        "1. Accuracy percentage of decision tree classifier is approx 98.16112084063048 %\n",
        "2. F1 score of decision tree classifier is approx 0.964824120603015\n",
        "3. Confusion Matrix has values \n",
        "  839 (True Negative)\n",
        "  6 (False Positive)\n",
        "  14 (False Negative)\n",
        "  283 (True Positive)\n",
        "4. Naiive Nayes Classifiers shown better result because of independent fatures than others.\n",
        "5. Naiive Bayes classifiers are a collection of classification algorithms based on Bayes’ Theorem. It is a family of algorithms where all of them has a fact that, every pair of features being classified is independent of each other.\n",
        "\n",
        " "
      ]
    },
    {
      "cell_type": "markdown",
      "metadata": {
        "id": "6er2plPsUcpZ"
      },
      "source": [
        "#**Section 7: Decision Tree (15 points)**\n",
        "1. Apply Decision Tree Algorithm\n",
        "\n",
        "2. Report the accuracy, and f-measure.\n",
        "\n",
        "3. Plot the confusion matrix.\n",
        "\n",
        "4. Comment on the classifier's performance"
      ]
    },
    {
      "cell_type": "code",
      "metadata": {
        "id": "s5bmPvB8VUbo",
        "colab": {
          "base_uri": "https://localhost:8080/",
          "height": 352
        },
        "outputId": "49aaa407-7115-40c3-a728-26ffed41e295"
      },
      "source": [
        "# Please insert your code here\n",
        "from sklearn.tree import DecisionTreeClassifier\n",
        "import seaborn as sns\n",
        "dtc = DecisionTreeClassifier(min_samples_split=7, random_state=190)\n",
        "dtc.fit(X_train, y_train)\n",
        "pred = dtc.predict(X_test)\n",
        "x_dtc = accuracy_score(y_test,pred)\n",
        "y_dtc = f1_score(y_test,pred)\n",
        "z_dtc = confusion_matrix(y_test,pred)\n",
        "f, ax = plot.subplots(figsize =(4,4))\n",
        "sns.heatmap(z_dtc,annot = True,linewidths=0.5,linecolor=\"blue\",fmt = \".0f\",ax=ax)\n",
        "plot.xlabel(\"pred\")\n",
        "plot.ylabel(\"y_test\")\n",
        "print(x_dtc)\n",
        "print(y_dtc)\n",
        "print(z_dtc)\n",
        "plot.show()"
      ],
      "execution_count": null,
      "outputs": [
        {
          "output_type": "stream",
          "name": "stdout",
          "text": [
            "0.9597197898423818\n",
            "0.9220338983050849\n",
            "[[824  21]\n",
            " [ 25 272]]\n"
          ]
        },
        {
          "output_type": "display_data",
          "data": {
            "image/png": "[encoded data removed]",
            "text/plain": [
              "<Figure size 288x288 with 2 Axes>"
            ]
          },
          "metadata": {
            "needs_background": "light"
          }
        }
      ]
    },
    {
      "cell_type": "markdown",
      "metadata": {
        "id": "19D89N1ijtMD"
      },
      "source": [
        "Comments: \n",
        "\n",
        "1. Accuracy percentage of decision tree classifier is approx 95.97197898423818  %\n",
        "2. F1 score of decision tree classifier is approx 0.9220338983050849\n",
        "3. Confusion Matrix has values \n",
        "  824 (True Negative)\n",
        "  21 (False Positive)\n",
        "  25 (False Negative)\n",
        "  272 (True Positive)\n",
        "4. Decision tree Classifier has lower accuracy other than Naive Bias for such kind of dataset. This may be happened because of lacking of find correct data regions or not able to find similarity with regions.\n",
        "\n",
        "\n"
      ]
    },
    {
      "cell_type": "markdown",
      "metadata": {
        "id": "tBmV9n2GUwRK"
      },
      "source": [
        "#**Section 8: Support Vector Machine (15 points)**\n",
        "\n",
        "You have to use \"linear\" kernel.\n",
        "\n",
        "\n",
        "1. Apply Support Vector Machine (SVM) algorithm\n",
        "\n",
        "2. Report the accuracy, and f-measure.\n",
        "\n",
        "3. Plot the confusion matrix.\n",
        "\n",
        "4. Comment on the classifier's performance\n"
      ]
    },
    {
      "cell_type": "code",
      "metadata": {
        "id": "MJ-PPakfVU-A",
        "colab": {
          "base_uri": "https://localhost:8080/",
          "height": 352
        },
        "outputId": "8e827ad1-ae7b-4414-c96d-f83ceb721aa0"
      },
      "source": [
        "# Please insert your code here\n",
        "from sklearn.svm import SVC\n",
        "import seaborn as sns\n",
        "X_train, X_test, y_train, y_test = train_test_split(features, df['spam'], test_size=0.20, random_state=42)\n",
        "svc = SVC(kernel='linear', gamma=1.0)\n",
        "svc.fit(X_train, y_train)\n",
        "pred = svc.predict(X_test)\n",
        "x_svc = accuracy_score(y_test,pred)\n",
        "y_svc = f1_score(y_test,pred)\n",
        "z_svc = confusion_matrix(y_test,pred)\n",
        "f, ax = plot.subplots(figsize =(4,4))\n",
        "sns.heatmap(z_svc,annot = True,linewidths=0.5,linecolor=\"blue\",fmt = \".0f\",ax=ax)\n",
        "plot.xlabel(\"pred\")\n",
        "plot.ylabel(\"y_test\")\n",
        "print(x_svc)\n",
        "print(y_svc)\n",
        "print(z_svc)\n",
        "plot.show()"
      ],
      "execution_count": null,
      "outputs": [
        {
          "output_type": "stream",
          "name": "stdout",
          "text": [
            "0.9921190893169878\n",
            "0.9847198641765704\n",
            "[[843   2]\n",
            " [  7 290]]\n"
          ]
        },
        {
          "output_type": "display_data",
          "data": {
            "image/png": "[encoded data removed]",
            "text/plain": [
              "<Figure size 288x288 with 2 Axes>"
            ]
          },
          "metadata": {
            "needs_background": "light"
          }
        }
      ]
    },
    {
      "cell_type": "markdown",
      "metadata": {
        "id": "XyE8ftvu0WvW"
      },
      "source": [
        ""
      ]
    },
    {
      "cell_type": "markdown",
      "metadata": {
        "id": "-SqwJj5ufrDz"
      },
      "source": [
        "Comments:\n",
        "\n",
        "1. Accuracy percentage by applying SVM Algorithm on test data is 99.21190893169878 %\n",
        "2. F1 score by applying SVM Algorithm on test data is 0.9847198641765704\n",
        "3. Confusion Matrix has values \n",
        "  843 (True Negative)\n",
        "  2 (False Positive)\n",
        "  7 (False Negative)\n",
        "  290 (True Positive)\n",
        "4. SVM provide better accuracy and f1 score value as compared to vector distance or Naive bais or decision tree classifier because of its underlying capacity to model multidimensional boundaries.\n",
        "\n",
        "\n",
        "\n",
        "\n"
      ]
    },
    {
      "cell_type": "markdown",
      "metadata": {
        "id": "ZTuDAEYUU47H"
      },
      "source": [
        "#**Section 9: Compare all the classifiers' performances using graphs/plots and write your observations (10 points)**"
      ]
    },
    {
      "cell_type": "code",
      "metadata": {
        "id": "drZSpya4WqpB",
        "colab": {
          "base_uri": "https://localhost:8080/",
          "height": 502
        },
        "outputId": "37519482-8682-4498-daf7-0c7196332600"
      },
      "source": [
        "#Insert code here\n",
        "barWidth = 0.25\n",
        "fig = plot.subplots(figsize =(10, 8))\n",
        " \n",
        "Accuracy = [x,x_mnb, x_dtc,x_svc]\n",
        "F1_score = [y,y_mnb, y_dtc,y_svc]\n",
        " \n",
        "# Set position of bar on X axis\n",
        "bar1 = np.arange(len(Accuracy))\n",
        "bar2 = [x + barWidth for x in bar1]\n",
        " \n",
        "# Make the plot\n",
        "plot.bar(bar1, Accuracy, color ='b', width = barWidth,\n",
        "        edgecolor ='grey', label ='Accuracy')\n",
        "plot.bar(bar2, F1_score, color ='g', width = barWidth,\n",
        "        edgecolor ='grey', label ='F1_score')\n",
        "\n",
        "# Adding Xticks\n",
        "plot.xlabel('Classifiers', fontweight ='bold', fontsize = 15)\n",
        "plot.ylabel('Classifiers Performance', fontweight ='bold', fontsize = 15)\n",
        "plot.xticks([r + barWidth for r in range(len(Accuracy))],\n",
        "        ['Vector Distance','Naiive Bayes', 'Decision Tree Class', 'Support Vector Machine'])\n",
        "plot.legend()\n",
        "plot.show()"
      ],
      "execution_count": null,
      "outputs": [
        {
          "output_type": "display_data",
          "data": {
            "image/png": "[encoded data removed]",
            "text/plain": [
              "<Figure size 720x576 with 1 Axes>"
            ]
          },
          "metadata": {
            "needs_background": "light"
          }
        }
      ]
    },
    {
      "cell_type": "markdown",
      "metadata": {
        "id": "MO_fNVXQptML"
      },
      "source": [
        "Observations\n",
        "\n",
        "* Vector based distance classification approach take more time as compared to other classifiers.\n",
        "\n",
        "* Finding distance of each test data with every vector of spam and non spam class and take mean leads to low accuracy and f1 scores values as compared to SVM classifier \n",
        "\n",
        "* In binary class classification there is a possibility that some messages can be classified as spam and as well as non spam messages. In such cases SVM has high f1 score value as comapared to decision tree classifier. \n",
        "\n",
        "* SVM takes more time as comapared to Naiive Bayes \n",
        "\n",
        "* Decision tree classifier has lowest accuracy as comapared to other classifiers.\n",
        "\n",
        "* Decision tree classifier has more dependency on dataset and several usecases as compared to other classifiers.\n",
        "\n",
        "\n",
        "\n",
        "\n",
        "\n",
        "\n",
        "\n",
        "\n",
        "\n",
        "\n",
        "\n"
      ]
    }
  ]
}